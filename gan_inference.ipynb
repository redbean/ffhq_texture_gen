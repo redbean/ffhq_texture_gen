{
 "cells": [
  {
   "cell_type": "code",
   "execution_count": 2,
   "metadata": {},
   "outputs": [],
   "source": [
    "import torch\n",
    "from torchvision import transforms\n",
    "from PIL import Image\n",
    "import numpy as np\n",
    "import os\n",
    "\n",
    "from gan.model import Generator\n",
    "from gan.functions import preprocess_data"
   ]
  },
  {
   "cell_type": "code",
   "execution_count": 4,
   "metadata": {},
   "outputs": [],
   "source": [
    "def load_checkpoint(checkpoint_path, netG):\n",
    "    checkpoint = torch.load(checkpoint_path)\n",
    "    netG.load_state_dict(checkpoint['netG_state_dict'])\n",
    "    print(f\"Checkpoint loaded from {checkpoint_path}\")"
   ]
  },
  {
   "cell_type": "code",
   "execution_count": 6,
   "metadata": {},
   "outputs": [],
   "source": [
    "def infer(input_image_path, output_image_path, checkpoint_path, device):\n",
    "    # 모델 초기화\n",
    "    netG = Generator().to(device)\n",
    "    \n",
    "    # 체크포인트 로드\n",
    "    load_checkpoint(checkpoint_path, netG)\n",
    "    \n",
    "    # 모델을 평가 모드로 설정\n",
    "    netG.eval()\n",
    "    \n",
    "    # 이미지 전처리\n",
    "    transform = transforms.Compose([\n",
    "        transforms.Resize((512, 512)),\n",
    "        transforms.ToTensor()\n",
    "    ])\n",
    "    \n",
    "    image = Image.open(input_image_path).convert('RGB')\n",
    "    image = transform(image).unsqueeze(0).to(device)  # 배치 차원을 추가하고 디바이스로 이동\n",
    "    \n",
    "    # 인퍼런스 수행\n",
    "    with torch.no_grad():\n",
    "        generated_image = netG(image)\n",
    "    \n",
    "    # 결과 이미지를 저장\n",
    "    generated_image = generated_image.squeeze(0).cpu().detach().numpy()  # 배치 차원 제거\n",
    "    generated_image = np.transpose(generated_image, (1, 2, 0))  # (C, H, W) -> (H, W, C)\n",
    "    \n",
    "    # 3채널씩 끊어서 RGB 이미지로 저장\n",
    "    num_channels = generated_image.shape[2]\n",
    "    assert num_channels % 3 == 0, \"Generated image channels should be divisible by 3\"\n",
    "    \n",
    "    for i in range(0, num_channels, 3):\n",
    "        rgb_image = generated_image[:, :, i:i+3]\n",
    "        rgb_image = (rgb_image * 255).astype(np.uint8)  # 0-1 범위를 0-255 범위로 변환\n",
    "        rgb_image = Image.fromarray(rgb_image)\n",
    "        rgb_output_path = f\"{output_image_path}_rgb_{i//3}.png\"\n",
    "        rgb_image.save(rgb_output_path)\n",
    "        print(f\"RGB image {i//3} saved to {rgb_output_path}\")"
   ]
  },
  {
   "cell_type": "code",
   "execution_count": 11,
   "metadata": {},
   "outputs": [
    {
     "name": "stdout",
     "output_type": "stream",
     "text": [
      "Checkpoint loaded from c:\\work\\ffhq_texture_generator\\checkpoints\\checkpoint_epoch_5.pth\n",
      "RGB image 0 saved to ./_rgb_0.png\n",
      "RGB image 1 saved to ./_rgb_1.png\n",
      "RGB image 2 saved to ./_rgb_2.png\n",
      "RGB image 3 saved to ./_rgb_3.png\n"
     ]
    }
   ],
   "source": [
    "if __name__ == \"__main__\":\n",
    "    input_image_path = '054000.png'\n",
    "    output_image_path = './'  # 확장자 없이 기본 경로만 지정\n",
    "    \n",
    "    \n",
    "    files = os.listdir(os.path.join(os.getcwd(), \"checkpoints\"))[1]\n",
    "    checkpoint_path = os.path.join(os.path.join(os.getcwd(), \"checkpoints\"), files)\n",
    "    \n",
    "    device = torch.device(\"cuda:0\" if torch.cuda.is_available() else \"cpu\")\n",
    "    \n",
    "    infer(input_image_path, output_image_path, checkpoint_path, device)"
   ]
  },
  {
   "cell_type": "code",
   "execution_count": 9,
   "metadata": {},
   "outputs": [
    {
     "data": {
      "text/plain": [
       "'c:\\\\work\\\\ffhq_texture_generator\\\\checkpoints\\\\checkpoint_epoch_5.pth'"
      ]
     },
     "execution_count": 9,
     "metadata": {},
     "output_type": "execute_result"
    }
   ],
   "source": []
  }
 ],
 "metadata": {
  "kernelspec": {
   "display_name": "texture_gen",
   "language": "python",
   "name": "python3"
  },
  "language_info": {
   "codemirror_mode": {
    "name": "ipython",
    "version": 3
   },
   "file_extension": ".py",
   "mimetype": "text/x-python",
   "name": "python",
   "nbconvert_exporter": "python",
   "pygments_lexer": "ipython3",
   "version": "3.9.19"
  }
 },
 "nbformat": 4,
 "nbformat_minor": 2
}
