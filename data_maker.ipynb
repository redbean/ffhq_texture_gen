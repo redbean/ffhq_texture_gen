{
 "cells": [
  {
   "cell_type": "code",
   "execution_count": null,
   "metadata": {},
   "outputs": [],
   "source": [
    "import os, sys\n",
    "\n",
    "import cv2\n",
    "import numpy as np\n",
    "from tqdm import tqdm\n",
    "\n",
    "from data_preprocess import DataSetLoader\n"
   ]
  },
  {
   "cell_type": "code",
   "execution_count": null,
   "metadata": {},
   "outputs": [],
   "source": [
    "\n",
    "def merge_images(paths):\n",
    "    print(paths[0])\n",
    "    b, g, r = cv2.split(cv2.imread(paths[0]))  # ambient_occlusion\n",
    "    _, _, r = cv2.split(cv2.imread(paths[4]))  # specular\n",
    "    _, _, b = cv2.split(cv2.imread(paths[5]))  # translucency\n",
    "    \n",
    "    merged_image = cv2.merge((b, g, r))\n",
    "    merged_image = cv2.cvtColor(merged_image, cv2.COLOR_BGR2RGB)\n",
    "\n",
    "    # 1, 2, 3 인덱스의 이미지를 읽음\n",
    "    images = [cv2.imread(paths[i]) for i in [1, 2, 3]]\n",
    "    images = [cv2.cvtColor(i, cv2.COLOR_BGR2RGB) for i in images]\n",
    "    \n",
    "    # 합쳐진 이미지를 마지막에 추가\n",
    "    images.append(merged_image)\n",
    "    \n",
    "    result = np.stack(images, axis=0)\n",
    "    result = np.transpose(result, (0,3,1,2))  # HWC에서 CHW로 변환\n",
    "\n",
    "    return result"
   ]
  },
  {
   "cell_type": "code",
   "execution_count": null,
   "metadata": {},
   "outputs": [],
   "source": [
    "a = DataSetLoader()\n",
    "a.get_all_file_paths(\"./Data\")\n",
    "print(a.image_paths[0][0])\n",
    "os.path.isfile(a.image_paths[0][0][0])"
   ]
  },
  {
   "cell_type": "code",
   "execution_count": null,
   "metadata": {},
   "outputs": [],
   "source": [
    "dataset_dir = './Data'\n",
    "out = './data_prep_4chan'\n",
    "if not os.path.exists(out):\n",
    "    os.makedirs(out)"
   ]
  },
  {
   "cell_type": "code",
   "execution_count": null,
   "metadata": {},
   "outputs": [],
   "source": [
    "dataset_dir = './Data'\n",
    "out = './data_prep_4chan'\n",
    "if not os.path.exists(out):\n",
    "    os.makedirs(out)\n",
    "\n",
    "for folder_name in tqdm(os.listdir(dataset_dir)):\n",
    "    folder_path = os.path.join(dataset_dir, folder_name)\n",
    "    for sub in os.listdir(folder_path):\n",
    "        sub_folder_path = os.path.join(folder_path, sub)\n",
    "        if os.path.isdir(sub_folder_path):\n",
    "            paths = [\n",
    "                os.path.join(sub_folder_path, 'ambient_occlusion.png'),\n",
    "                os.path.join(sub_folder_path, 'diffuse.png'),\n",
    "                os.path.join(sub_folder_path, 'light_normalized.png'),\n",
    "                os.path.join(sub_folder_path, 'normal.png'),\n",
    "                os.path.join(sub_folder_path, 'specular.png'),\n",
    "                os.path.join(sub_folder_path, 'translucency.png')\n",
    "            ]\n",
    "            merged_images = merge_images(paths)\n",
    "            np.save(os.path.join(out, f'data_{sub}.npy'), merged_images)"
   ]
  }
 ],
 "metadata": {
  "kernelspec": {
   "display_name": "texture_gen",
   "language": "python",
   "name": "python3"
  },
  "language_info": {
   "codemirror_mode": {
    "name": "ipython",
    "version": 3
   },
   "file_extension": ".py",
   "mimetype": "text/x-python",
   "name": "python",
   "nbconvert_exporter": "python",
   "pygments_lexer": "ipython3",
   "version": "3.9.19"
  }
 },
 "nbformat": 4,
 "nbformat_minor": 2
}
