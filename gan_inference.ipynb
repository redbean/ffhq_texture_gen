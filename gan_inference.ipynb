{
 "cells": [
  {
   "cell_type": "code",
   "execution_count": 2,
   "metadata": {},
   "outputs": [],
   "source": [
    "import torch\n",
    "from torchvision import transforms\n",
    "from PIL import Image\n",
    "import numpy as np\n",
    "import os\n",
    "\n",
    "from gan.model import Generator\n",
    "from gan.functions import preprocess_data"
   ]
  },
  {
   "cell_type": "code",
   "execution_count": 4,
   "metadata": {},
   "outputs": [],
   "source": [
    "def load_checkpoint(checkpoint_path, netG):\n",
    "    checkpoint = torch.load(checkpoint_path)\n",
    "    netG.load_state_dict(checkpoint['netG_state_dict'])\n",
    "    print(f\"Checkpoint loaded from {checkpoint_path}\")"
   ]
  },
  {
   "cell_type": "code",
   "execution_count": 6,
   "metadata": {},
   "outputs": [],
   "source": [
    "def infer(input_image_path, output_image_path, checkpoint_path, device):\n",
    "    # 모델 초기화\n",
    "    netG = Generator().to(device)\n",
    "    \n",
    "    # 체크포인트 로드\n",
    "    load_checkpoint(checkpoint_path, netG)\n",
    "    \n",
    "    # 모델을 평가 모드로 설정\n",
    "    netG.eval()\n",
    "    \n",
    "    # 이미지 전처리\n",
    "    transform = transforms.Compose([\n",
    "        transforms.Resize((512, 512)),\n",
    "        transforms.ToTensor()\n",
    "    ])\n",
    "    \n",
    "    image = Image.open(input_image_path).convert('RGB')\n",
    "    image = transform(image).unsqueeze(0).to(device)  # 배치 차원을 추가하고 디바이스로 이동\n",
    "    \n",
    "    # 인퍼런스 수행\n",
    "    with torch.no_grad():\n",
    "        generated_image = netG(image)\n",
    "    \n",
    "    # 결과 이미지를 저장\n",
    "    generated_image = generated_image.squeeze(0).cpu().detach().numpy()  # 배치 차원 제거\n",
    "    generated_image = np.transpose(generated_image, (1, 2, 0))  # (C, H, W) -> (H, W, C)\n",
    "    \n",
    "    # 3채널씩 끊어서 RGB 이미지로 저장\n",
    "    num_channels = generated_image.shape[2]\n",
    "    assert num_channels % 3 == 0, \"Generated image channels should be divisible by 3\"\n",
    "    \n",
    "    for i in range(0, num_channels, 3):\n",
    "        rgb_image = generated_image[:, :, i:i+3]\n",
    "        rgb_image = (rgb_image * 255).astype(np.uint8)  # 0-1 범위를 0-255 범위로 변환\n",
    "        rgb_image = Image.fromarray(rgb_image)\n",
    "        rgb_output_path = f\"{output_image_path}_rgb_{i//3}.png\"\n",
    "        rgb_image.save(rgb_output_path)\n",
    "        print(f\"RGB image {i//3} saved to {rgb_output_path}\")"
   ]
  },
  {
   "cell_type": "code",
   "execution_count": 12,
   "metadata": {},
   "outputs": [
    {
     "ename": "KeyError",
     "evalue": "'netG_state_dict'",
     "output_type": "error",
     "traceback": [
      "\u001b[1;31m---------------------------------------------------------------------------\u001b[0m",
      "\u001b[1;31mKeyError\u001b[0m                                  Traceback (most recent call last)",
      "Cell \u001b[1;32mIn[12], line 12\u001b[0m\n\u001b[0;32m      8\u001b[0m checkpoint_path \u001b[38;5;241m=\u001b[39m os\u001b[38;5;241m.\u001b[39mpath\u001b[38;5;241m.\u001b[39mjoin(os\u001b[38;5;241m.\u001b[39mpath\u001b[38;5;241m.\u001b[39mjoin(os\u001b[38;5;241m.\u001b[39mgetcwd(), \u001b[38;5;124m\"\u001b[39m\u001b[38;5;124mcheckpoints\u001b[39m\u001b[38;5;124m\"\u001b[39m), files)\n\u001b[0;32m     10\u001b[0m device \u001b[38;5;241m=\u001b[39m torch\u001b[38;5;241m.\u001b[39mdevice(\u001b[38;5;124m\"\u001b[39m\u001b[38;5;124mcuda:0\u001b[39m\u001b[38;5;124m\"\u001b[39m \u001b[38;5;28;01mif\u001b[39;00m torch\u001b[38;5;241m.\u001b[39mcuda\u001b[38;5;241m.\u001b[39mis_available() \u001b[38;5;28;01melse\u001b[39;00m \u001b[38;5;124m\"\u001b[39m\u001b[38;5;124mcpu\u001b[39m\u001b[38;5;124m\"\u001b[39m)\n\u001b[1;32m---> 12\u001b[0m \u001b[43minfer\u001b[49m\u001b[43m(\u001b[49m\u001b[43minput_image_path\u001b[49m\u001b[43m,\u001b[49m\u001b[43m \u001b[49m\u001b[43moutput_image_path\u001b[49m\u001b[43m,\u001b[49m\u001b[43m \u001b[49m\u001b[43mcheckpoint_path\u001b[49m\u001b[43m,\u001b[49m\u001b[43m \u001b[49m\u001b[43mdevice\u001b[49m\u001b[43m)\u001b[49m\n",
      "Cell \u001b[1;32mIn[6], line 6\u001b[0m, in \u001b[0;36minfer\u001b[1;34m(input_image_path, output_image_path, checkpoint_path, device)\u001b[0m\n\u001b[0;32m      3\u001b[0m netG \u001b[38;5;241m=\u001b[39m Generator()\u001b[38;5;241m.\u001b[39mto(device)\n\u001b[0;32m      5\u001b[0m \u001b[38;5;66;03m# 체크포인트 로드\u001b[39;00m\n\u001b[1;32m----> 6\u001b[0m \u001b[43mload_checkpoint\u001b[49m\u001b[43m(\u001b[49m\u001b[43mcheckpoint_path\u001b[49m\u001b[43m,\u001b[49m\u001b[43m \u001b[49m\u001b[43mnetG\u001b[49m\u001b[43m)\u001b[49m\n\u001b[0;32m      8\u001b[0m \u001b[38;5;66;03m# 모델을 평가 모드로 설정\u001b[39;00m\n\u001b[0;32m      9\u001b[0m netG\u001b[38;5;241m.\u001b[39meval()\n",
      "Cell \u001b[1;32mIn[4], line 3\u001b[0m, in \u001b[0;36mload_checkpoint\u001b[1;34m(checkpoint_path, netG)\u001b[0m\n\u001b[0;32m      1\u001b[0m \u001b[38;5;28;01mdef\u001b[39;00m \u001b[38;5;21mload_checkpoint\u001b[39m(checkpoint_path, netG):\n\u001b[0;32m      2\u001b[0m     checkpoint \u001b[38;5;241m=\u001b[39m torch\u001b[38;5;241m.\u001b[39mload(checkpoint_path)\n\u001b[1;32m----> 3\u001b[0m     netG\u001b[38;5;241m.\u001b[39mload_state_dict(\u001b[43mcheckpoint\u001b[49m\u001b[43m[\u001b[49m\u001b[38;5;124;43m'\u001b[39;49m\u001b[38;5;124;43mnetG_state_dict\u001b[39;49m\u001b[38;5;124;43m'\u001b[39;49m\u001b[43m]\u001b[49m)\n\u001b[0;32m      4\u001b[0m     \u001b[38;5;28mprint\u001b[39m(\u001b[38;5;124mf\u001b[39m\u001b[38;5;124m\"\u001b[39m\u001b[38;5;124mCheckpoint loaded from \u001b[39m\u001b[38;5;132;01m{\u001b[39;00mcheckpoint_path\u001b[38;5;132;01m}\u001b[39;00m\u001b[38;5;124m\"\u001b[39m)\n",
      "\u001b[1;31mKeyError\u001b[0m: 'netG_state_dict'"
     ]
    }
   ],
   "source": [
    "if __name__ == \"__main__\":\n",
    "    input_image_path = '054000.png'\n",
    "    output_image_path = './'  # 확장자 없이 기본 경로만 지정\n",
    "    \n",
    "    \n",
    "    files = os.listdir(os.path.join(os.getcwd(), \"checkpoints\"))\n",
    "    files = files[len(files)-1]\n",
    "    checkpoint_path = os.path.join(os.path.join(os.getcwd(), \"checkpoints\"), files)\n",
    "    \n",
    "    device = torch.device(\"cuda:0\" if torch.cuda.is_available() else \"cpu\")\n",
    "    \n",
    "    infer(input_image_path, output_image_path, checkpoint_path, device)"
   ]
  },
  {
   "cell_type": "code",
   "execution_count": 9,
   "metadata": {},
   "outputs": [
    {
     "data": {
      "text/plain": [
       "'c:\\\\work\\\\ffhq_texture_generator\\\\checkpoints\\\\checkpoint_epoch_5.pth'"
      ]
     },
     "execution_count": 9,
     "metadata": {},
     "output_type": "execute_result"
    }
   ],
   "source": []
  }
 ],
 "metadata": {
  "kernelspec": {
   "display_name": "texture_gen",
   "language": "python",
   "name": "python3"
  },
  "language_info": {
   "codemirror_mode": {
    "name": "ipython",
    "version": 3
   },
   "file_extension": ".py",
   "mimetype": "text/x-python",
   "name": "python",
   "nbconvert_exporter": "python",
   "pygments_lexer": "ipython3",
   "version": "3.9.19"
  }
 },
 "nbformat": 4,
 "nbformat_minor": 2
}
