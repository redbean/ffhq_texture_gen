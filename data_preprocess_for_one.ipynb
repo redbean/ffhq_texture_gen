{
 "cells": [
  {
   "cell_type": "code",
   "execution_count": null,
   "metadata": {},
   "outputs": [],
   "source": [
    "import os, sys\n",
    "\n",
    "import cv2\n",
    "import numpy as np\n",
    "from tqdm import tqdm\n",
    "\n",
    "from data_const import STRINGS"
   ]
  },
  {
   "cell_type": "code",
   "execution_count": null,
   "metadata": {},
   "outputs": [],
   "source": [
    "in_dir = os.path.join(os.getcwd(), \"Data_input_one\")\n",
    "files = os.listdir(in_dir)\n",
    "print(files)"
   ]
  },
  {
   "cell_type": "code",
   "execution_count": null,
   "metadata": {},
   "outputs": [],
   "source": [
    "out = os.path.join(os.getcwd(), \"Data_preprocessed_one\")\n",
    "if not os.path.exists(out):\n",
    "    os.mkdir(out)\n"
   ]
  },
  {
   "cell_type": "code",
   "execution_count": null,
   "metadata": {},
   "outputs": [],
   "source": [
    "images = np.zeros((3,1024,1024), dtype=np.uint8)\n",
    "\n",
    "for idx, path in enumerate(tqdm(files)):\n",
    "    fullpath = os.path.join(in_dir, path)\n",
    "    \n",
    "    image = cv2.imread(fullpath, cv2.IMREAD_COLOR)\n",
    "    if image is None:\n",
    "        print(\"not exists\")\n",
    "        continue\n",
    "\n",
    "    img = cv2.cvtColor(image, cv2.COLOR_BGR2RGB)\n",
    "    img = np.transpose(img, (2,0,1))  # HWC에서 CHW로 변환\n",
    "    \n",
    "    np.save(os.path.join(out, f'data_{idx:06}.npy'), img)\n",
    "    "
   ]
  },
  {
   "cell_type": "code",
   "execution_count": null,
   "metadata": {},
   "outputs": [],
   "source": [
    "import torch\n",
    "\n",
    "# GPU 사용 가능 여부 확인\n",
    "is_available = torch.cuda.is_available()\n",
    "print(\"CUDA Available: \", is_available)\n",
    "\n",
    "# 현재 할당된 GPU와 그 사용량 확인\n",
    "if is_available:\n",
    "    print(\"Current CUDA device: \", torch.cuda.current_device())\n",
    "    print(\"CUDA Device Name: \", torch.cuda.get_device_name())\n",
    "    print(\"CUDA Device Memory Usage: \")\n",
    "    print(f\"Allocated: {torch.cuda.memory_allocated() * 1e-6} MB\")\n",
    "    print(f\"Cached: {torch.cuda.memory_reserved() * 1e-6} MB\")"
   ]
  },
  {
   "cell_type": "code",
   "execution_count": null,
   "metadata": {},
   "outputs": [],
   "source": [
    "import os\n",
    "import psutil\n",
    "process = psutil.Process(os.getpid())\n",
    "print(f\"Memory Usage: {process.memory_info().rss / 1024 ** 2:.2f} MB\")  # RSS: Resident Set Size"
   ]
  }
 ],
 "metadata": {
  "kernelspec": {
   "display_name": "texture_gen",
   "language": "python",
   "name": "python3"
  },
  "language_info": {
   "codemirror_mode": {
    "name": "ipython",
    "version": 3
   },
   "file_extension": ".py",
   "mimetype": "text/x-python",
   "name": "python",
   "nbconvert_exporter": "python",
   "pygments_lexer": "ipython3",
   "version": "3.9.19"
  }
 },
 "nbformat": 4,
 "nbformat_minor": 2
}
